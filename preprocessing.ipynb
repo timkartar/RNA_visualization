{
 "cells": [
  {
   "cell_type": "code",
   "execution_count": 1,
   "metadata": {},
   "outputs": [],
   "source": [
    "import json\n",
    "import subprocess\n",
    "import glob"
   ]
  },
  {
   "cell_type": "code",
   "execution_count": 2,
   "metadata": {},
   "outputs": [],
   "source": [
    "path = './openvac_data/'\n",
    "filenames = ['test', 'train']\n",
    "content = []\n",
    "for file in filenames:\n",
    "    with open(path+file+'.json') as f:\n",
    "        for line in f:\n",
    "            test = json.loads(line)\n",
    "            content.append(test)\n",
    "    for pdb in content:\n",
    "        command = [\"python\", './spqr/tools/SPQR_ASSEMBLE.py', '-s', pdb['sequence'], '-t',\n",
    "                        pdb['structure'], '-o', './pdb_file/'+ file +'/init_' + str(pdb['index']) ]\n",
    "        subprocess.call(command)\n",
    "        \n"
   ]
  },
  {
   "cell_type": "code",
   "execution_count": 22,
   "metadata": {},
   "outputs": [
    {
     "data": {
      "text/plain": [
       "''"
      ]
     },
     "execution_count": 22,
     "metadata": {},
     "output_type": "execute_result"
    }
   ],
   "source": [
    "subprocess.check_output(['./spqr/tools/for_mc_files/convert', files[i], '1', '0', './spqr/tools/for_mc_files/confs.pdb'])"
   ]
  },
  {
   "cell_type": "code",
   "execution_count": 23,
   "metadata": {},
   "outputs": [
    {
     "name": "stdout",
     "output_type": "stream",
     "text": [
      "['./spqr/example/configs/chk.0000009500.p03.mc', './spqr/example/configs/chk.0000008500.p03.mc', './spqr/example/configs/chk.0000010000.p03.mc', './spqr/example/configs/chk.0000002500.p03.mc', './spqr/example/configs/chk.0000003500.p03.mc', './spqr/example/configs/chk.0000000500.p03.mc', './spqr/example/configs/chk.0000001500.p03.mc', './spqr/example/configs/chk.0000006500.p03.mc', './spqr/example/configs/chk.0000007500.p03.mc', './spqr/example/configs/chk.0000004500.p03.mc', './spqr/example/configs/chk.0000005500.p03.mc', './spqr/example/configs/chk.0000008000.p03.mc', './spqr/example/configs/chk.0000009000.p03.mc', './spqr/example/configs/chk.0000003000.p03.mc', './spqr/example/configs/chk.0000002000.p03.mc', './spqr/example/configs/chk.0000001000.p03.mc', './spqr/example/configs/chk.0000007000.p03.mc', './spqr/example/configs/chk.0000006000.p03.mc', './spqr/example/configs/chk.0000005000.p03.mc', './spqr/example/configs/chk.0000004000.p03.mc']\n"
     ]
    }
   ],
   "source": [
    "mcpath = './spqr/example/configs/'\n",
    "files = glob.glob(mcpath+\"chk.0*.mc\")\n",
    "print(files)\n",
    "\n",
    "for i in range(len(files)):\n",
    "    command1 = ['./spqr/tools/for_mc_files/convert', files[i], '1', '0', './spqr/tools/for_mc_files/confs.pdb']\n",
    "    subprocess.call(command1)\n",
    "    subprocess.Popen( \"tail -n+3 ./spqr/tools/for_mc_files/confs.pdb | head -n-1 > \" + './spqr/tools/for_mc_files/checkpoint_pdbs/init_'+str(i)+'.pdb' ,\n",
    "    stdin=subprocess.PIPE, shell=True )\n",
    "\n",
    "    "
   ]
  }
 ],
 "metadata": {
  "kernelspec": {
   "display_name": "Python 2",
   "language": "python",
   "name": "python2"
  },
  "language_info": {
   "codemirror_mode": {
    "name": "ipython",
    "version": 2
   },
   "file_extension": ".py",
   "mimetype": "text/x-python",
   "name": "python",
   "nbconvert_exporter": "python",
   "pygments_lexer": "ipython2",
   "version": "2.7.18"
  }
 },
 "nbformat": 4,
 "nbformat_minor": 4
}
